{
 "cells": [
  {
   "cell_type": "markdown",
   "metadata": {},
   "source": [
    "# Рассмотрим тесноту связи с помощью коэффициентов корреляции Пирсона и Спирмена."
   ]
  },
  {
   "cell_type": "code",
   "execution_count": 17,
   "metadata": {},
   "outputs": [],
   "source": [
    "import numpy as np\n",
    "from scipy.stats import spearmanr"
   ]
  },
  {
   "cell_type": "code",
   "execution_count": 12,
   "metadata": {},
   "outputs": [],
   "source": [
    "mens_rating = np.array([7,8,8,5,7])\n",
    "womens_rating = np.array([10,5,3,8,10])"
   ]
  },
  {
   "attachments": {
    "image.png": {
     "image/png": "[encoded data removed]"
    }
   },
   "cell_type": "markdown",
   "metadata": {},
   "source": [
    "# Вычислим силу линейной связи с помощью коэффициента корреляции Пирсона, который вычисляется по формуле:\n",
    "![image.png](attachment:image.png)\n"
   ]
  },
  {
   "cell_type": "code",
   "execution_count": 13,
   "metadata": {},
   "outputs": [],
   "source": [
    "def pearson_coeff(x1,x2):\n",
    "    def deviation(x):\n",
    "        return sum((x-x.mean())**2)\n",
    "    def covariation(x,y):\n",
    "        return sum((x-x.mean())*(y-y.mean()))\n",
    "    \n",
    "    pearson = covariation(x1,x2)/(deviation(x1)*deviation(x2))**0.5\n",
    "    \n",
    "    return pearson "
   ]
  },
  {
   "cell_type": "code",
   "execution_count": 15,
   "metadata": {},
   "outputs": [
    {
     "name": "stdout",
     "output_type": "stream",
     "text": [
      "Коэффициент корелляции Пирсона = -0.5243225050930763\n"
     ]
    }
   ],
   "source": [
    "print('Коэффициент корреляции Пирсона =',pearson_coeff(mens_rating,womens_rating))"
   ]
  },
  {
   "cell_type": "markdown",
   "metadata": {},
   "source": [
    "# Как можно видеть, данные имеют среднюю отрицательную линейную корреляцию "
   ]
  },
  {
   "attachments": {
    "image.png": {
     "image/png": "[encoded data removed]"
    }
   },
   "cell_type": "markdown",
   "metadata": {},
   "source": [
    "# Теперь посчитаем коэффициент монотонной корреляции Спирмана, который считается по следующей формуле:\n",
    "![image.png](attachment:image.png)\n",
    "# где di - разность рангов i-го показателя"
   ]
  },
  {
   "cell_type": "code",
   "execution_count": 18,
   "metadata": {},
   "outputs": [],
   "source": [
    "spearman_coeff, p = spearmanr(mens_rating, womens_rating)"
   ]
  },
  {
   "cell_type": "code",
   "execution_count": 19,
   "metadata": {},
   "outputs": [
    {
     "name": "stdout",
     "output_type": "stream",
     "text": [
      "Коэффициент корреляции Пирсона = -0.6488856845230502\n"
     ]
    }
   ],
   "source": [
    "print('Коэффициент корреляции Пирсона =',spearman_coeff)"
   ]
  },
  {
   "cell_type": "markdown",
   "metadata": {},
   "source": [
    "# Как можно видеть, данные имеют среднюю отрицательную монотонную корреляцию.\n",
    "# Следовательно, можно сделать вывод, что между данными есть некоторая корреляция, но скорее отрицательная, то есть то, что больше нравится мужчинам - меньше нравится женщинам и наоборот. "
   ]
  },
  {
   "cell_type": "code",
   "execution_count": null,
   "metadata": {},
   "outputs": [],
   "source": []
  }
 ],
 "metadata": {
  "kernelspec": {
   "display_name": "Python 3",
   "language": "python",
   "name": "python3"
  },
  "language_info": {
   "codemirror_mode": {
    "name": "ipython",
    "version": 3
   },
   "file_extension": ".py",
   "mimetype": "text/x-python",
   "name": "python",
   "nbconvert_exporter": "python",
   "pygments_lexer": "ipython3",
   "version": "3.8.5"
  }
 },
 "nbformat": 4,
 "nbformat_minor": 4
}
